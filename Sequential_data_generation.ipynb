{
 "cells": [
  {
   "cell_type": "code",
   "execution_count": 1,
   "metadata": {},
   "outputs": [
    {
     "name": "stdout",
     "output_type": "stream",
     "text": [
      "Original dataset size: (10000, 14)\n",
      "Extended dataset size: (200000, 14)\n",
      "Extended dataset saved to: seq_ai4i.csv\n"
     ]
    }
   ],
   "source": [
    "import pandas as pd\n",
    "\n",
    "# Load the original dataset\n",
    "file_path = 'ai4i2020.csv' \n",
    "df = pd.read_csv(file_path)\n",
    "\n",
    "# Check the original size\n",
    "print(\"Original dataset size:\", df.shape)\n",
    "\n",
    "# Sample the dataset to increase its size to 100,000 with replacement\n",
    "# Ensure each 'Product ID' can appear in multiple entries but remains linked to its original data\n",
    "sampled_df = df.sample(n=200000, replace=True, random_state=42)\n",
    "\n",
    "# Optionally, check to ensure 'Product ID' has no new unique entries\n",
    "assert sampled_df['Product ID'].nunique() == df['Product ID'].nunique()\n",
    "\n",
    "# Check the new size\n",
    "print(\"Extended dataset size:\", sampled_df.shape)\n",
    "\n",
    "# Save the extended dataset if needed\n",
    "extended_file_path = 'seq_ai4i.csv'  # Change this to your desired path\n",
    "sampled_df.to_csv(extended_file_path, index=False)\n",
    "\n",
    "print(\"Extended dataset saved to:\", extended_file_path)\n"
   ]
  }
 ],
 "metadata": {
  "kernelspec": {
   "display_name": "Python 3",
   "language": "python",
   "name": "python3"
  },
  "language_info": {
   "codemirror_mode": {
    "name": "ipython",
    "version": 3
   },
   "file_extension": ".py",
   "mimetype": "text/x-python",
   "name": "python",
   "nbconvert_exporter": "python",
   "pygments_lexer": "ipython3",
   "version": "3.11.5"
  }
 },
 "nbformat": 4,
 "nbformat_minor": 2
}
